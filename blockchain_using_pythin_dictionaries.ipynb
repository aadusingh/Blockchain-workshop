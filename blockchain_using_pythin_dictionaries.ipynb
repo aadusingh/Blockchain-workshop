{
  "nbformat": 4,
  "nbformat_minor": 0,
  "metadata": {
    "colab": {
      "name": "blockchain_using_pythin_dictionaries.ipynb",
      "provenance": [],
      "collapsed_sections": [],
      "authorship_tag": "ABX9TyOcRFd6wNqFpyiFBikq9knG",
      "include_colab_link": true
    },
    "kernelspec": {
      "name": "python3",
      "display_name": "Python 3"
    }
  },
  "cells": [
    {
      "cell_type": "markdown",
      "metadata": {
        "id": "view-in-github",
        "colab_type": "text"
      },
      "source": [
        "<a href=\"https://colab.research.google.com/github/aadusingh/Blockchain-workshop/blob/master/blockchain_using_pythin_dictionaries.ipynb\" target=\"_parent\"><img src=\"https://colab.research.google.com/assets/colab-badge.svg\" alt=\"Open In Colab\"/></a>"
      ]
    },
    {
      "cell_type": "code",
      "metadata": {
        "id": "uFjaVWIRv3Jd",
        "colab_type": "code",
        "colab": {}
      },
      "source": [
        "owner = 'Adarsh singh'\n",
        "blockchain = []\n",
        "def add_block(sender = owner, reciever = None, transaction_amount = 0.01):\n",
        "  transaction = {\n",
        "      'sender': sender,\n",
        "      'reciever': reciever,\n",
        "      'amount': transaction_amount\n",
        "  }\n",
        "  blockchain.append(transaction)\n",
        "\n",
        "\n",
        "def get_value_from_user():\n",
        "  reciever = input('nmae of reciver')\n",
        "  tr = float (input('enter trx value'))\n",
        "  add_block(owner, reciever, tr)"
      ],
      "execution_count": 0,
      "outputs": []
    },
    {
      "cell_type": "code",
      "metadata": {
        "id": "yZfw1-_Zxqkz",
        "colab_type": "code",
        "colab": {}
      },
      "source": [
        "add_block(owner, 'Animesh sharma',1100)"
      ],
      "execution_count": 0,
      "outputs": []
    },
    {
      "cell_type": "code",
      "metadata": {
        "id": "va4MJsBRyz3c",
        "colab_type": "code",
        "colab": {
          "base_uri": "https://localhost:8080/",
          "height": 35
        },
        "outputId": "8415b321-3e82-4086-b6c0-6784e3fe4b4a"
      },
      "source": [
        "blockchain"
      ],
      "execution_count": 7,
      "outputs": [
        {
          "output_type": "execute_result",
          "data": {
            "text/plain": [
              "[{'amount': 1100, 'reciever': 'Animesh sharma', 'sender': 'Adarsh singh'}]"
            ]
          },
          "metadata": {
            "tags": []
          },
          "execution_count": 7
        }
      ]
    },
    {
      "cell_type": "code",
      "metadata": {
        "id": "8OWjYsLRy9cc",
        "colab_type": "code",
        "colab": {
          "base_uri": "https://localhost:8080/",
          "height": 52
        },
        "outputId": "a8b1ccc3-26f8-41e6-f8a3-4edd0ba74108"
      },
      "source": [
        "add_block(owner,'akash poddar',1000)\n",
        "blockchain"
      ],
      "execution_count": 8,
      "outputs": [
        {
          "output_type": "execute_result",
          "data": {
            "text/plain": [
              "[{'amount': 1100, 'reciever': 'Animesh sharma', 'sender': 'Adarsh singh'},\n",
              " {'amount': 1000, 'reciever': 'akash poddar', 'sender': 'Adarsh singh'}]"
            ]
          },
          "metadata": {
            "tags": []
          },
          "execution_count": 8
        }
      ]
    },
    {
      "cell_type": "code",
      "metadata": {
        "id": "nlOOvvsQzXdr",
        "colab_type": "code",
        "colab": {
          "base_uri": "https://localhost:8080/",
          "height": 52
        },
        "outputId": "09859990-9ef6-4cf1-8687-3bd79ee4da2a"
      },
      "source": [
        "get_value_from_user()"
      ],
      "execution_count": 9,
      "outputs": [
        {
          "output_type": "stream",
          "text": [
            "nmae of reciverAmogh bhoj\n",
            "enter trx value1500\n"
          ],
          "name": "stdout"
        }
      ]
    },
    {
      "cell_type": "code",
      "metadata": {
        "id": "Wj2Aey8nz0iw",
        "colab_type": "code",
        "colab": {
          "base_uri": "https://localhost:8080/",
          "height": 55
        },
        "outputId": "8277e987-4f92-46e3-cab2-81a4a0ae67bc"
      },
      "source": [
        "print(blockchain)"
      ],
      "execution_count": 10,
      "outputs": [
        {
          "output_type": "stream",
          "text": [
            "[{'sender': 'Adarsh singh', 'reciever': 'Animesh sharma', 'amount': 1100}, {'sender': 'Adarsh singh', 'reciever': 'akash poddar', 'amount': 1000}, {'sender': 'Adarsh singh', 'reciever': 'Amogh bhoj', 'amount': 1500.0}]\n"
          ],
          "name": "stdout"
        }
      ]
    },
    {
      "cell_type": "code",
      "metadata": {
        "id": "FLQD9VTC0UyF",
        "colab_type": "code",
        "colab": {
          "base_uri": "https://localhost:8080/",
          "height": 69
        },
        "outputId": "21ee7a85-a951-4936-cbd5-142eaaf01aff"
      },
      "source": [
        "for index, block in enumerate(blockchain, 1):\n",
        "  print(index, block)"
      ],
      "execution_count": 12,
      "outputs": [
        {
          "output_type": "stream",
          "text": [
            "1 {'sender': 'Adarsh singh', 'reciever': 'Animesh sharma', 'amount': 1100}\n",
            "2 {'sender': 'Adarsh singh', 'reciever': 'akash poddar', 'amount': 1000}\n",
            "3 {'sender': 'Adarsh singh', 'reciever': 'Amogh bhoj', 'amount': 1500.0}\n"
          ],
          "name": "stdout"
        }
      ]
    },
    {
      "cell_type": "code",
      "metadata": {
        "id": "qRwU58vl0oxj",
        "colab_type": "code",
        "colab": {}
      },
      "source": [
        ""
      ],
      "execution_count": 0,
      "outputs": []
    }
  ]
}