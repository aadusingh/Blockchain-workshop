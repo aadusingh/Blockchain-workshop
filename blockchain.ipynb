{
  "nbformat": 4,
  "nbformat_minor": 0,
  "metadata": {
    "colab": {
      "name": "blockchain.ipynb",
      "provenance": [],
      "collapsed_sections": [],
      "include_colab_link": true
    },
    "kernelspec": {
      "name": "python3",
      "display_name": "Python 3"
    }
  },
  "cells": [
    {
      "cell_type": "markdown",
      "metadata": {
        "id": "view-in-github",
        "colab_type": "text"
      },
      "source": [
        "<a href=\"https://colab.research.google.com/github/aadusingh/Blockchain-workshop/blob/master/blockchain.ipynb\" target=\"_parent\"><img src=\"https://colab.research.google.com/assets/colab-badge.svg\" alt=\"Open In Colab\"/></a>"
      ]
    },
    {
      "cell_type": "code",
      "metadata": {
        "id": "72BNcG45_INR",
        "colab_type": "code",
        "outputId": "d29a05ed-0dbf-4dfd-90fa-8e7a561f26b7",
        "colab": {
          "base_uri": "https://localhost:8080/",
          "height": 35
        }
      },
      "source": [
        "list"
      ],
      "execution_count": 0,
      "outputs": [
        {
          "output_type": "execute_result",
          "data": {
            "text/plain": [
              "list"
            ]
          },
          "metadata": {
            "tags": []
          },
          "execution_count": 19
        }
      ]
    },
    {
      "cell_type": "code",
      "metadata": {
        "id": "6sEFWruO_kEi",
        "colab_type": "code",
        "outputId": "fd6cff7c-52fe-407a-d6a1-e4122359773a",
        "colab": {
          "base_uri": "https://localhost:8080/",
          "height": 35
        }
      },
      "source": [
        "t=[3,4.0,True,False,None,'pythont']\n",
        "t[2]"
      ],
      "execution_count": 0,
      "outputs": [
        {
          "output_type": "execute_result",
          "data": {
            "text/plain": [
              "True"
            ]
          },
          "metadata": {
            "tags": []
          },
          "execution_count": 20
        }
      ]
    },
    {
      "cell_type": "code",
      "metadata": {
        "id": "QY84SNUWACSm",
        "colab_type": "code",
        "outputId": "9c81927c-4cfc-4814-dffb-c77a48888d35",
        "colab": {
          "base_uri": "https://localhost:8080/",
          "height": 35
        }
      },
      "source": [
        "t[0:5]"
      ],
      "execution_count": 0,
      "outputs": [
        {
          "output_type": "execute_result",
          "data": {
            "text/plain": [
              "[3, 4.0, True, False, None]"
            ]
          },
          "metadata": {
            "tags": []
          },
          "execution_count": 21
        }
      ]
    },
    {
      "cell_type": "code",
      "metadata": {
        "id": "6CAF5N9aAXZA",
        "colab_type": "code",
        "outputId": "f0c6576c-5503-4fcd-c1d9-2758bb4638fd",
        "colab": {
          "base_uri": "https://localhost:8080/",
          "height": 35
        }
      },
      "source": [
        "t[-6:-2]"
      ],
      "execution_count": 0,
      "outputs": [
        {
          "output_type": "execute_result",
          "data": {
            "text/plain": [
              "[3, 4.0, True, False]"
            ]
          },
          "metadata": {
            "tags": []
          },
          "execution_count": 22
        }
      ]
    },
    {
      "cell_type": "code",
      "metadata": {
        "id": "d0BaeHoIAlv8",
        "colab_type": "code",
        "colab": {}
      },
      "source": [
        "t.append(39)"
      ],
      "execution_count": 0,
      "outputs": []
    },
    {
      "cell_type": "code",
      "metadata": {
        "id": "Qie3Qt0EBDxu",
        "colab_type": "code",
        "outputId": "1423bf77-ffa7-4d84-9000-311f8b106b87",
        "colab": {
          "base_uri": "https://localhost:8080/",
          "height": 35
        }
      },
      "source": [
        "t"
      ],
      "execution_count": 0,
      "outputs": [
        {
          "output_type": "execute_result",
          "data": {
            "text/plain": [
              "[3, 4.0, True, False, None, 'pythont', 39]"
            ]
          },
          "metadata": {
            "tags": []
          },
          "execution_count": 24
        }
      ]
    },
    {
      "cell_type": "code",
      "metadata": {
        "id": "AiKJ8fIyBL-P",
        "colab_type": "code",
        "colab": {}
      },
      "source": [
        "t[5]= '49'"
      ],
      "execution_count": 0,
      "outputs": []
    },
    {
      "cell_type": "code",
      "metadata": {
        "id": "4y1mJ5qrBYhp",
        "colab_type": "code",
        "outputId": "23ef33be-007e-4af3-918a-68ec6cfe115c",
        "colab": {
          "base_uri": "https://localhost:8080/",
          "height": 35
        }
      },
      "source": [
        "t"
      ],
      "execution_count": 0,
      "outputs": [
        {
          "output_type": "execute_result",
          "data": {
            "text/plain": [
              "[3, 4.0, True, False, None, '49', 39]"
            ]
          },
          "metadata": {
            "tags": []
          },
          "execution_count": 26
        }
      ]
    },
    {
      "cell_type": "code",
      "metadata": {
        "id": "R9dpHfzMBZt-",
        "colab_type": "code",
        "outputId": "0f4dcccb-6a04-4f64-f04d-d43b139b2335",
        "colab": {
          "base_uri": "https://localhost:8080/",
          "height": 35
        }
      },
      "source": [
        "t.pop(5)"
      ],
      "execution_count": 0,
      "outputs": [
        {
          "output_type": "execute_result",
          "data": {
            "text/plain": [
              "'49'"
            ]
          },
          "metadata": {
            "tags": []
          },
          "execution_count": 27
        }
      ]
    },
    {
      "cell_type": "code",
      "metadata": {
        "id": "aDf14GWkBep7",
        "colab_type": "code",
        "outputId": "ffde5d77-b14a-423e-b9eb-3bc021a043b5",
        "colab": {
          "base_uri": "https://localhost:8080/",
          "height": 35
        }
      },
      "source": [
        "t"
      ],
      "execution_count": 0,
      "outputs": [
        {
          "output_type": "execute_result",
          "data": {
            "text/plain": [
              "[3, 4.0, True, False, None, 39]"
            ]
          },
          "metadata": {
            "tags": []
          },
          "execution_count": 28
        }
      ]
    },
    {
      "cell_type": "code",
      "metadata": {
        "id": "cXEwOi_JBfjG",
        "colab_type": "code",
        "colab": {}
      },
      "source": [
        "t2=[0.4,True,False,[45,None],['replace','python'],None]"
      ],
      "execution_count": 0,
      "outputs": []
    },
    {
      "cell_type": "code",
      "metadata": {
        "id": "d7_BhflbCN7i",
        "colab_type": "code",
        "outputId": "e244ef5a-bcb0-4d81-8c09-2219b41aef3d",
        "colab": {
          "base_uri": "https://localhost:8080/",
          "height": 35
        }
      },
      "source": [
        "t2[3]"
      ],
      "execution_count": 0,
      "outputs": [
        {
          "output_type": "execute_result",
          "data": {
            "text/plain": [
              "[45, None]"
            ]
          },
          "metadata": {
            "tags": []
          },
          "execution_count": 30
        }
      ]
    },
    {
      "cell_type": "code",
      "metadata": {
        "id": "AZpGHw-cCSno",
        "colab_type": "code",
        "colab": {}
      },
      "source": [
        "t2[3][1]"
      ],
      "execution_count": 0,
      "outputs": []
    },
    {
      "cell_type": "code",
      "metadata": {
        "id": "yw9ig4x5CW2X",
        "colab_type": "code",
        "outputId": "5198d405-6860-4034-8852-e86b1298903f",
        "colab": {
          "base_uri": "https://localhost:8080/",
          "height": 35
        }
      },
      "source": [
        "t2"
      ],
      "execution_count": 0,
      "outputs": [
        {
          "output_type": "execute_result",
          "data": {
            "text/plain": [
              "[0.4, True, False, [45, None], ['replace', 'python'], None]"
            ]
          },
          "metadata": {
            "tags": []
          },
          "execution_count": 32
        }
      ]
    },
    {
      "cell_type": "code",
      "metadata": {
        "id": "NyLxQh77CYFZ",
        "colab_type": "code",
        "outputId": "6d45b9b0-4511-401b-8d96-ae27b9bdf335",
        "colab": {
          "base_uri": "https://localhost:8080/",
          "height": 35
        }
      },
      "source": [
        "t2[3][0]"
      ],
      "execution_count": 0,
      "outputs": [
        {
          "output_type": "execute_result",
          "data": {
            "text/plain": [
              "45"
            ]
          },
          "metadata": {
            "tags": []
          },
          "execution_count": 33
        }
      ]
    },
    {
      "cell_type": "code",
      "metadata": {
        "id": "raQkqvqKCcAb",
        "colab_type": "code",
        "outputId": "9f807d64-1496-4db6-e0c7-b69ba6c4f613",
        "colab": {
          "base_uri": "https://localhost:8080/",
          "height": 35
        }
      },
      "source": [
        "type(t2[0])"
      ],
      "execution_count": 0,
      "outputs": [
        {
          "output_type": "execute_result",
          "data": {
            "text/plain": [
              "float"
            ]
          },
          "metadata": {
            "tags": []
          },
          "execution_count": 34
        }
      ]
    },
    {
      "cell_type": "code",
      "metadata": {
        "id": "XqOIuDcZCmv4",
        "colab_type": "code",
        "outputId": "cd7523bd-73ef-4576-e407-de03362e69f9",
        "colab": {
          "base_uri": "https://localhost:8080/",
          "height": 35
        }
      },
      "source": [
        "type(t2[3][0])"
      ],
      "execution_count": 0,
      "outputs": [
        {
          "output_type": "execute_result",
          "data": {
            "text/plain": [
              "int"
            ]
          },
          "metadata": {
            "tags": []
          },
          "execution_count": 35
        }
      ]
    },
    {
      "cell_type": "code",
      "metadata": {
        "id": "31BU75SiCtIo",
        "colab_type": "code",
        "outputId": "50b27129-1d9e-43aa-ad2d-f9a7c13c7bb4",
        "colab": {
          "base_uri": "https://localhost:8080/",
          "height": 69
        }
      },
      "source": [
        "blockchain=[[5], [[5],9], [[[5],9],0]]\n",
        "for block in blockchain:\n",
        "  print(block)"
      ],
      "execution_count": 0,
      "outputs": [
        {
          "output_type": "stream",
          "text": [
            "[5]\n",
            "[[5], 9]\n",
            "[[[5], 9], 0]\n"
          ],
          "name": "stdout"
        }
      ]
    },
    {
      "cell_type": "code",
      "metadata": {
        "id": "F0lergcTDsXT",
        "colab_type": "code",
        "outputId": "1df7fcd0-04df-4d51-fe20-6efa6fd0259e",
        "colab": {
          "base_uri": "https://localhost:8080/",
          "height": 35
        }
      },
      "source": [
        "blockchain=[]\n",
        "\n",
        "blockchain.append(6)\n",
        "blockchain.append(67)\n",
        "blockchain.append(0.5)\n",
        "blockchain.append(9)\n",
        "print(blockchain)"
      ],
      "execution_count": 0,
      "outputs": [
        {
          "output_type": "stream",
          "text": [
            "[6, 67, 0.5, 9]\n"
          ],
          "name": "stdout"
        }
      ]
    },
    {
      "cell_type": "code",
      "metadata": {
        "id": "UnyXJnm_Es2r",
        "colab_type": "code",
        "outputId": "fe3abf74-2f8d-4a9f-cf00-2218494fb86e",
        "colab": {
          "base_uri": "https://localhost:8080/",
          "height": 35
        }
      },
      "source": [
        "blockchain=[]\n",
        "\n",
        "blockchain.append([6])\n",
        "blockchain.append([blockchain[-1],7])\n",
        "blockchain.append([blockchain[-1],0.5])\n",
        "blockchain.append([blockchain[-1],9])\n",
        "print(blockchain)"
      ],
      "execution_count": 0,
      "outputs": [
        {
          "output_type": "stream",
          "text": [
            "[[6], [[6], 7], [[[6], 7], 0.5], [[[[6], 7], 0.5], 9]]\n"
          ],
          "name": "stdout"
        }
      ]
    },
    {
      "cell_type": "code",
      "metadata": {
        "id": "UeDiTIR7G1Ld",
        "colab_type": "code",
        "colab": {}
      },
      "source": [
        "# blockchain without genesis block\n",
        "blockchain =[]\n",
        "def add_block(trax):\n",
        "      if len(blockchain) < 1:\n",
        "          blockchain.append([trax])\n",
        "      else:\n",
        "          blockchain.append([blockchain[-1], trax])"
      ],
      "execution_count": 0,
      "outputs": []
    },
    {
      "cell_type": "code",
      "metadata": {
        "id": "xXx1oTAGIAQJ",
        "colab_type": "code",
        "colab": {}
      },
      "source": [
        "add_block(5)\n",
        "blockchain"
      ],
      "execution_count": 0,
      "outputs": []
    },
    {
      "cell_type": "code",
      "metadata": {
        "id": "tuYpe4C5IOdO",
        "colab_type": "code",
        "colab": {}
      },
      "source": [
        "add_block(9)\n",
        "blockchain"
      ],
      "execution_count": 0,
      "outputs": []
    },
    {
      "cell_type": "code",
      "metadata": {
        "id": "cFs-DZihIe5o",
        "colab_type": "code",
        "colab": {}
      },
      "source": [
        "   def get_trax_value_from_user():\n",
        "    return float(input(\"enter trax value\"))\n",
        "    \n",
        "def get_last_block():\n",
        "  if len(blockchain)<1:\n",
        "     print('empty list')\n",
        "  else:\n",
        "     return blockchain[-1]\n",
        "def add_block(trax):\n",
        "  if len(blockchain) < 1:\n",
        "      blockchain.append([trax])\n",
        "  else:\n",
        "      blockchain.append([blockchain[-1], trax])\n",
        "      print(blockchain)\n"
      ],
      "execution_count": 0,
      "outputs": []
    },
    {
      "cell_type": "code",
      "metadata": {
        "id": "tYURAmJ9PKL1",
        "colab_type": "code",
        "colab": {}
      },
      "source": [
        "blockchain=[]\n",
        "for i in range(int(input(\"how many value you want to enter?\"))):\n",
        "  add_block(get_trax_value_from_user())\n",
        "  blockchain"
      ],
      "execution_count": 0,
      "outputs": []
    },
    {
      "cell_type": "code",
      "metadata": {
        "id": "Q9Gl-DlQgKAM",
        "colab_type": "code",
        "colab": {}
      },
      "source": [
        "for block in blockchain:\n",
        "        print(block)"
      ],
      "execution_count": 0,
      "outputs": []
    },
    {
      "cell_type": "code",
      "metadata": {
        "id": "izHNfPOogiSc",
        "colab_type": "code",
        "colab": {}
      },
      "source": [
        "for index, block in enumerate(blockchain,1):\n",
        "      print(index, block)"
      ],
      "execution_count": 0,
      "outputs": []
    },
    {
      "cell_type": "code",
      "metadata": {
        "id": "kQ0_BW6ohrkU",
        "colab_type": "code",
        "outputId": "623117c7-b63b-44e2-8c36-61b2b48cf676",
        "colab": {
          "base_uri": "https://localhost:8080/",
          "height": 35
        }
      },
      "source": [
        " def is_valid_blockchain(blockchain):\n",
        "     #  print(blockchain)\n",
        "     if len(blockchain) == 0:\n",
        "        return\n",
        "     for i in range(len(blockchain)):\n",
        "        if i == 0:\n",
        "             continue\n",
        "        else:\n",
        "            if not blockchain[i][0]== blockchain[i-1]:\n",
        "                return False\n",
        "     return True\n",
        " print(is_valid_blockchain(blockchain))    "
      ],
      "execution_count": 0,
      "outputs": [
        {
          "output_type": "stream",
          "text": [
            "True\n"
          ],
          "name": "stdout"
        }
      ]
    },
    {
      "cell_type": "code",
      "metadata": {
        "id": "dgqAgZ5qlxRR",
        "colab_type": "code",
        "outputId": "e031aa93-7d84-408b-b1c2-5b4dffeb1816",
        "colab": {
          "base_uri": "https://localhost:8080/",
          "height": 35
        }
      },
      "source": [
        "blockchain"
      ],
      "execution_count": 0,
      "outputs": [
        {
          "output_type": "execute_result",
          "data": {
            "text/plain": [
              "[[6], [[6], 7], [[[6], 7], 0.5], [[[[6], 7], 0.5], 9]]"
            ]
          },
          "metadata": {
            "tags": []
          },
          "execution_count": 40
        }
      ]
    },
    {
      "cell_type": "code",
      "metadata": {
        "id": "NP31r_vjpn0b",
        "colab_type": "code",
        "outputId": "d3f77c84-1c5c-47f8-8581-53dcea934e7c",
        "colab": {
          "base_uri": "https://localhost:8080/",
          "height": 35
        }
      },
      "source": [
        "if len(blockchain) > 1:\n",
        "  blockchain[0] = False\n",
        "  print(blockchain)"
      ],
      "execution_count": 0,
      "outputs": [
        {
          "output_type": "stream",
          "text": [
            "[False, [[6], 7], [[[6], 7], 0.5], [[[[6], 7], 0.5], 9]]\n"
          ],
          "name": "stdout"
        }
      ]
    },
    {
      "cell_type": "code",
      "metadata": {
        "id": "h34zbd4CrDac",
        "colab_type": "code",
        "outputId": "bddac533-a6e3-4363-8a90-b18d8a9a5166",
        "colab": {
          "base_uri": "https://localhost:8080/",
          "height": 35
        }
      },
      "source": [
        "print(is_valid_blockchain(blockchain))    "
      ],
      "execution_count": 0,
      "outputs": [
        {
          "output_type": "stream",
          "text": [
            "False\n"
          ],
          "name": "stdout"
        }
      ]
    },
    {
      "cell_type": "code",
      "metadata": {
        "id": "r3U_vWtKrSJ1",
        "colab_type": "code",
        "outputId": "675712f5-d6ea-44d4-a532-1e901a475a3e",
        "colab": {
          "base_uri": "https://localhost:8080/",
          "height": 35
        }
      },
      "source": [
        "if not is_valid_blockchain(blockchain):\n",
        "  print('invalid blockchain!!!!!!!!!!!!')\n",
        " \n"
      ],
      "execution_count": 0,
      "outputs": [
        {
          "output_type": "stream",
          "text": [
            "invalid blockchain!!!!!!!!!!!!\n"
          ],
          "name": "stdout"
        }
      ]
    },
    {
      "cell_type": "code",
      "metadata": {
        "id": "rqvmQ4ywr9IF",
        "colab_type": "code",
        "colab": {
          "base_uri": "https://localhost:8080/",
          "height": 35
        },
        "outputId": "1d53cd70-4751-43af-d9b7-485675dba1de"
      },
      "source": [
        "d = {'key':2, 'key':5, 5: 'value', 4:9}\n",
        "d['key']"
      ],
      "execution_count": 50,
      "outputs": [
        {
          "output_type": "execute_result",
          "data": {
            "text/plain": [
              "5"
            ]
          },
          "metadata": {
            "tags": []
          },
          "execution_count": 50
        }
      ]
    },
    {
      "cell_type": "code",
      "metadata": {
        "id": "iw89qwCtugNf",
        "colab_type": "code",
        "colab": {
          "base_uri": "https://localhost:8080/",
          "height": 35
        },
        "outputId": "0ba4dad6-90a5-48d1-827b-8acd102296fc"
      },
      "source": [
        "d[4]"
      ],
      "execution_count": 51,
      "outputs": [
        {
          "output_type": "execute_result",
          "data": {
            "text/plain": [
              "9"
            ]
          },
          "metadata": {
            "tags": []
          },
          "execution_count": 51
        }
      ]
    },
    {
      "cell_type": "code",
      "metadata": {
        "id": "wQkQvrmquyyn",
        "colab_type": "code",
        "colab": {
          "base_uri": "https://localhost:8080/",
          "height": 69
        },
        "outputId": "78b6d129-82fa-4cef-d232-1eb32e37f8fc"
      },
      "source": [
        "for k in d:\n",
        "  print(d[k])"
      ],
      "execution_count": 52,
      "outputs": [
        {
          "output_type": "stream",
          "text": [
            "5\n",
            "value\n",
            "9\n"
          ],
          "name": "stdout"
        }
      ]
    },
    {
      "cell_type": "code",
      "metadata": {
        "id": "5rT8ekfTu6Co",
        "colab_type": "code",
        "colab": {}
      },
      "source": [
        ""
      ],
      "execution_count": 0,
      "outputs": []
    }
  ]
}